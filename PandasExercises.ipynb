{
 "cells": [
  {
   "cell_type": "code",
   "execution_count": 1,
   "id": "26327cc4",
   "metadata": {},
   "outputs": [
    {
     "name": "stdout",
     "output_type": "stream",
     "text": [
      "1.3.4\n"
     ]
    }
   ],
   "source": [
    "#import pandas and check the version\n",
    "import pandas as pd\n",
    "print(pd.__version__)"
   ]
  },
  {
   "cell_type": "code",
   "execution_count": 2,
   "id": "e806292d",
   "metadata": {},
   "outputs": [
    {
     "name": "stdout",
     "output_type": "stream",
     "text": [
      "0    1\n",
      "1    2\n",
      "2    3\n",
      "3    4\n",
      "4    5\n",
      "5    6\n",
      "dtype: int64\n",
      "==========================================\n",
      "0    0\n",
      "1    1\n",
      "2    2\n",
      "3    3\n",
      "4    4\n",
      "5    5\n",
      "dtype: int64\n",
      "==========================================\n",
      "a    1\n",
      "b    2\n",
      "c    3\n",
      "d    4\n",
      "e    5\n",
      "f    6\n",
      "dtype: int64\n"
     ]
    }
   ],
   "source": [
    "#create a series from a list, numpy array and dict\n",
    "import numpy as np\n",
    "l = [1,2,3,4,5,6]\n",
    "arr = np.arange(6)\n",
    "d = {\"a\":1,\"b\":2,\"c\":3,\"d\":4,\"e\":5,\"f\":6}\n",
    "\n",
    "ser_1 = pd.Series(l)\n",
    "ser_2 = pd.Series(arr)\n",
    "ser_3 = pd.Series(d)\n",
    "\n",
    "print(ser_1)\n",
    "print(\"==========================================\")\n",
    "print(ser_2)\n",
    "print(\"==========================================\")\n",
    "print(ser_3)\n",
    "\n"
   ]
  },
  {
   "cell_type": "code",
   "execution_count": 6,
   "id": "c116cc7e",
   "metadata": {},
   "outputs": [
    {
     "name": "stdout",
     "output_type": "stream",
     "text": [
      "0         C\n",
      "1       C++\n",
      "2      Java\n",
      "3    Python\n",
      "4      Perl\n",
      "5      Ruby\n",
      "6     Julia\n",
      "dtype: object\n",
      "\n",
      "=====================================\n",
      "\n",
      "        0\n",
      "0       C\n",
      "1     C++\n",
      "2    Java\n",
      "3  Python\n",
      "4    Perl\n",
      "5    Ruby\n",
      "6   Julia\n",
      "\n",
      "=====================================\n",
      "\n",
      "   index       0\n",
      "0      0       C\n",
      "1      1     C++\n",
      "2      2    Java\n",
      "3      3  Python\n",
      "4      4    Perl\n",
      "5      5    Ruby\n",
      "6      6   Julia\n"
     ]
    }
   ],
   "source": [
    "#convert the index of a series into a column of a dataframe\n",
    "s = pd.Series(['C', 'C++', 'Java', 'Python', 'Perl', 'Ruby','Julia']) \n",
    "print(s)\n",
    "print(\"\\n=====================================\\n\")\n",
    "df = s.to_frame()\n",
    "print(df)\n",
    "print(\"\\n=====================================\\n\")\n",
    "df = s.to_frame().reset_index()\n",
    "print(df)"
   ]
  },
  {
   "cell_type": "code",
   "execution_count": 8,
   "id": "d6e8faca",
   "metadata": {},
   "outputs": [
    {
     "data": {
      "text/plain": [
       "RangeIndex(start=0, stop=7, step=1)"
      ]
     },
     "execution_count": 8,
     "metadata": {},
     "output_type": "execute_result"
    }
   ],
   "source": [
    "df.index"
   ]
  },
  {
   "cell_type": "code",
   "execution_count": 11,
   "id": "21d561da",
   "metadata": {},
   "outputs": [
    {
     "name": "stdout",
     "output_type": "stream",
     "text": [
      "0         C\n",
      "1       C++\n",
      "2      Java\n",
      "3    Python\n",
      "4      Perl\n",
      "5      Ruby\n",
      "6     Julia\n",
      "dtype: object\n",
      "\n",
      "=====================================\n",
      "\n",
      "a    1\n",
      "b    2\n",
      "c    3\n",
      "d    4\n",
      "e    5\n",
      "f    6\n",
      "dtype: int64\n",
      "\n",
      "=====================================\n",
      "\n",
      "=====================================\n",
      "\n",
      "0         C\n",
      "1       C++\n",
      "2      Java\n",
      "3    Python\n",
      "4      Perl\n",
      "5      Ruby\n",
      "6     Julia\n",
      "a         1\n",
      "b         2\n",
      "c         3\n",
      "d         4\n",
      "e         5\n",
      "f         6\n",
      "dtype: object\n",
      "\n",
      "=====================================\n",
      "\n",
      "0         C\n",
      "1       C++\n",
      "2      Java\n",
      "3    Python\n",
      "4      Perl\n",
      "5      Ruby\n",
      "6     Julia\n",
      "a         1\n",
      "b         2\n",
      "c         3\n",
      "d         4\n",
      "e         5\n",
      "f         6\n",
      "dtype: object\n",
      "\n",
      "=====================================\n",
      "\n",
      "        0    1\n",
      "0       C  NaN\n",
      "1     C++  NaN\n",
      "2    Java  NaN\n",
      "3  Python  NaN\n",
      "4    Perl  NaN\n",
      "5    Ruby  NaN\n",
      "6   Julia  NaN\n",
      "a     NaN  1.0\n",
      "b     NaN  2.0\n",
      "c     NaN  3.0\n",
      "d     NaN  4.0\n",
      "e     NaN  5.0\n",
      "f     NaN  6.0\n",
      "\n",
      "=====================================\n",
      "\n"
     ]
    }
   ],
   "source": [
    "#combine many series to form a dataframe\n",
    "s = pd.Series(['C', 'C++', 'Java', 'Python', 'Perl', 'Ruby','Julia']) \n",
    "d = {\"a\":1,\"b\":2,\"c\":3,\"d\":4,\"e\":5,\"f\":6}\n",
    "ser_3 = pd.Series(d)\n",
    "print(s)\n",
    "print(\"\\n=====================================\\n\")\n",
    "print(ser_3)\n",
    "print(\"\\n=====================================\\n\")\n",
    "print(\"=====================================\\n\")\n",
    "\n",
    "df = pd.concat([s, ser_3])\n",
    "print(df)\n",
    "print(\"\\n=====================================\\n\")\n",
    "\n",
    "df2 = pd.concat([s, ser_3],axis = 0)\n",
    "print(df2)\n",
    "print(\"\\n=====================================\\n\")\n",
    "\n",
    "df3 = pd.concat([s, ser_3], axis = 1)\n",
    "print(df3)\n",
    "print(\"\\n=====================================\\n\")"
   ]
  },
  {
   "cell_type": "code",
   "execution_count": 19,
   "id": "bd20876f",
   "metadata": {},
   "outputs": [
    {
     "name": "stdout",
     "output_type": "stream",
     "text": [
      "0    False\n",
      "1    False\n",
      "2    False\n",
      "3     True\n",
      "4     True\n",
      "dtype: bool\n"
     ]
    },
    {
     "data": {
      "text/plain": [
       "0    1\n",
       "1    2\n",
       "2    3\n",
       "dtype: int64"
      ]
     },
     "execution_count": 19,
     "metadata": {},
     "output_type": "execute_result"
    }
   ],
   "source": [
    "#get the items of series A not present in series B\n",
    "ser_A = pd.Series([1, 2, 3, 4, 5])\n",
    "ser_B = pd.Series([4, 5, 6, 7, 8])\n",
    "\n",
    "print(ser_A.isin(ser_B))\n",
    "\n",
    "ser_bool = ser_A.isin(ser_B)\n",
    "\n",
    "ser_A[~ser_bool]\n",
    "\n"
   ]
  },
  {
   "cell_type": "code",
   "execution_count": 26,
   "id": "675fcf13",
   "metadata": {},
   "outputs": [
    {
     "name": "stdout",
     "output_type": "stream",
     "text": [
      "0    False\n",
      "1    False\n",
      "2    False\n",
      "3     True\n",
      "4     True\n",
      "dtype: bool\n",
      "0     True\n",
      "1     True\n",
      "2    False\n",
      "3    False\n",
      "4    False\n",
      "dtype: bool\n",
      "0    1\n",
      "1    2\n",
      "2    3\n",
      "3    4\n",
      "4    5\n",
      "0    4\n",
      "1    5\n",
      "2    6\n",
      "3    7\n",
      "4    8\n",
      "dtype: int64\n",
      "0    1\n",
      "1    2\n",
      "2    3\n",
      "2    6\n",
      "3    7\n",
      "4    8\n",
      "dtype: int64\n"
     ]
    }
   ],
   "source": [
    "#get the items not common to both series A and series B\n",
    "ser_bool_1 = ser_A.isin(ser_B)\n",
    "ser_bool_2 = ser_B.isin(ser_A)\n",
    "\n",
    "ser_C =  pd.concat([ser_A, ser_B])\n",
    "ser_bool_3 =  pd.concat([ser_bool_1, ser_bool_2])\n",
    "\n",
    "\n",
    "print(ser_bool_1)\n",
    "print(ser_bool_2)\n",
    "print(ser_C)\n",
    "\n",
    "print(ser_C[~ser_bool_3])\n",
    "\n",
    "\n",
    "\n"
   ]
  },
  {
   "cell_type": "code",
   "execution_count": 28,
   "id": "e7379f8a",
   "metadata": {},
   "outputs": [
    {
     "data": {
      "text/plain": [
       "array([ 1.25117263,  7.70986507, 10.92259345, 13.36360403, 18.0949083 ])"
      ]
     },
     "execution_count": 28,
     "metadata": {},
     "output_type": "execute_result"
    }
   ],
   "source": [
    "#get the minimum, 25th percentile, median, 75th, and max of a numeric series\n",
    "state = np.random.RandomState(100)\n",
    "ser = pd.Series(state.normal(10, 5, 25))\n",
    "\n",
    "\n",
    "np.percentile(ser, q=[0, 25, 50, 75, 100])"
   ]
  },
  {
   "cell_type": "code",
   "execution_count": null,
   "id": "4f5f9edd",
   "metadata": {},
   "outputs": [],
   "source": []
  }
 ],
 "metadata": {
  "kernelspec": {
   "display_name": "Python 3 (ipykernel)",
   "language": "python",
   "name": "python3"
  },
  "language_info": {
   "codemirror_mode": {
    "name": "ipython",
    "version": 3
   },
   "file_extension": ".py",
   "mimetype": "text/x-python",
   "name": "python",
   "nbconvert_exporter": "python",
   "pygments_lexer": "ipython3",
   "version": "3.9.7"
  }
 },
 "nbformat": 4,
 "nbformat_minor": 5
}
